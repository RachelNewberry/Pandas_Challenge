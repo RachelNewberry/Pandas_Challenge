{
 "cells": [
  {
   "cell_type": "code",
   "execution_count": 14,
   "metadata": {
    "scrolled": true
   },
   "outputs": [
    {
     "data": {
      "text/html": [
       "<div>\n",
       "<style scoped>\n",
       "    .dataframe tbody tr th:only-of-type {\n",
       "        vertical-align: middle;\n",
       "    }\n",
       "\n",
       "    .dataframe tbody tr th {\n",
       "        vertical-align: top;\n",
       "    }\n",
       "\n",
       "    .dataframe thead th {\n",
       "        text-align: right;\n",
       "    }\n",
       "</style>\n",
       "<table border=\"1\" class=\"dataframe\">\n",
       "  <thead>\n",
       "    <tr style=\"text-align: right;\">\n",
       "      <th></th>\n",
       "      <th>Purchase ID</th>\n",
       "      <th>SN</th>\n",
       "      <th>Age</th>\n",
       "      <th>Gender</th>\n",
       "      <th>Item ID</th>\n",
       "      <th>Item Name</th>\n",
       "      <th>Price</th>\n",
       "    </tr>\n",
       "  </thead>\n",
       "  <tbody>\n",
       "    <tr>\n",
       "      <th>0</th>\n",
       "      <td>0</td>\n",
       "      <td>Lisim78</td>\n",
       "      <td>20</td>\n",
       "      <td>Male</td>\n",
       "      <td>108</td>\n",
       "      <td>Extraction, Quickblade Of Trembling Hands</td>\n",
       "      <td>3.53</td>\n",
       "    </tr>\n",
       "    <tr>\n",
       "      <th>1</th>\n",
       "      <td>1</td>\n",
       "      <td>Lisovynya38</td>\n",
       "      <td>40</td>\n",
       "      <td>Male</td>\n",
       "      <td>143</td>\n",
       "      <td>Frenzied Scimitar</td>\n",
       "      <td>1.56</td>\n",
       "    </tr>\n",
       "    <tr>\n",
       "      <th>2</th>\n",
       "      <td>2</td>\n",
       "      <td>Ithergue48</td>\n",
       "      <td>24</td>\n",
       "      <td>Male</td>\n",
       "      <td>92</td>\n",
       "      <td>Final Critic</td>\n",
       "      <td>4.88</td>\n",
       "    </tr>\n",
       "    <tr>\n",
       "      <th>3</th>\n",
       "      <td>3</td>\n",
       "      <td>Chamassasya86</td>\n",
       "      <td>24</td>\n",
       "      <td>Male</td>\n",
       "      <td>100</td>\n",
       "      <td>Blindscythe</td>\n",
       "      <td>3.27</td>\n",
       "    </tr>\n",
       "    <tr>\n",
       "      <th>4</th>\n",
       "      <td>4</td>\n",
       "      <td>Iskosia90</td>\n",
       "      <td>23</td>\n",
       "      <td>Male</td>\n",
       "      <td>131</td>\n",
       "      <td>Fury</td>\n",
       "      <td>1.44</td>\n",
       "    </tr>\n",
       "  </tbody>\n",
       "</table>\n",
       "</div>"
      ],
      "text/plain": [
       "   Purchase ID             SN  Age Gender  Item ID  \\\n",
       "0            0        Lisim78   20   Male      108   \n",
       "1            1    Lisovynya38   40   Male      143   \n",
       "2            2     Ithergue48   24   Male       92   \n",
       "3            3  Chamassasya86   24   Male      100   \n",
       "4            4      Iskosia90   23   Male      131   \n",
       "\n",
       "                                   Item Name  Price  \n",
       "0  Extraction, Quickblade Of Trembling Hands   3.53  \n",
       "1                          Frenzied Scimitar   1.56  \n",
       "2                               Final Critic   4.88  \n",
       "3                                Blindscythe   3.27  \n",
       "4                                       Fury   1.44  "
      ]
     },
     "execution_count": 14,
     "metadata": {},
     "output_type": "execute_result"
    }
   ],
   "source": [
    "# Dependencies and Setup\n",
    "import pandas as pd\n",
    "import numpy as np\n",
    "\n",
    "# File to Load (Remember to Change These)\n",
    "filepath = \"./purchase_data.csv\"\n",
    "\n",
    "# Read Purchasing File and store into Pandas data frame\n",
    "purchase_data = pd.read_csv(filepath)\n",
    "purchase_data_df.head()"
   ]
  },
  {
   "cell_type": "code",
   "execution_count": 16,
   "metadata": {},
   "outputs": [
    {
     "data": {
      "text/html": [
       "<div>\n",
       "<style scoped>\n",
       "    .dataframe tbody tr th:only-of-type {\n",
       "        vertical-align: middle;\n",
       "    }\n",
       "\n",
       "    .dataframe tbody tr th {\n",
       "        vertical-align: top;\n",
       "    }\n",
       "\n",
       "    .dataframe thead th {\n",
       "        text-align: right;\n",
       "    }\n",
       "</style>\n",
       "<table border=\"1\" class=\"dataframe\">\n",
       "  <thead>\n",
       "    <tr style=\"text-align: right;\">\n",
       "      <th></th>\n",
       "      <th>Total Players</th>\n",
       "    </tr>\n",
       "  </thead>\n",
       "  <tbody>\n",
       "    <tr>\n",
       "      <th>0</th>\n",
       "      <td>576</td>\n",
       "    </tr>\n",
       "  </tbody>\n",
       "</table>\n",
       "</div>"
      ],
      "text/plain": [
       "   Total Players\n",
       "0            576"
      ]
     },
     "execution_count": 16,
     "metadata": {},
     "output_type": "execute_result"
    }
   ],
   "source": [
    "#Display the total number of players\n",
    "player_count_df = len(purchase_data_df[\"SN\"].unique())\n",
    "summary_df = pd.DataFrame({\"Total Players\":[player_count_df]})\n",
    "summary_df\n",
    "\n",
    "#player_count_df = purchase_data_df[\"SN\"].count()\n",
    "#player_count_df = player_count_df.drop_duplicates(subset=[\"SN\"])\n",
    "#summary_df = pd.DataFrame({\"Total Players\":[player_count_df]})\n",
    "#summary_df"
   ]
  },
  {
   "cell_type": "code",
   "execution_count": 18,
   "metadata": {},
   "outputs": [
    {
     "data": {
      "text/html": [
       "<div>\n",
       "<style scoped>\n",
       "    .dataframe tbody tr th:only-of-type {\n",
       "        vertical-align: middle;\n",
       "    }\n",
       "\n",
       "    .dataframe tbody tr th {\n",
       "        vertical-align: top;\n",
       "    }\n",
       "\n",
       "    .dataframe thead th {\n",
       "        text-align: right;\n",
       "    }\n",
       "</style>\n",
       "<table border=\"1\" class=\"dataframe\">\n",
       "  <thead>\n",
       "    <tr style=\"text-align: right;\">\n",
       "      <th></th>\n",
       "      <th>Number of Unique Items</th>\n",
       "      <th>Average Price</th>\n",
       "      <th>Number of Purchases</th>\n",
       "      <th>Total Revenue</th>\n",
       "    </tr>\n",
       "  </thead>\n",
       "  <tbody>\n",
       "    <tr>\n",
       "      <th>0</th>\n",
       "      <td>179</td>\n",
       "      <td>$3.05</td>\n",
       "      <td>780</td>\n",
       "      <td>$2,379.77</td>\n",
       "    </tr>\n",
       "  </tbody>\n",
       "</table>\n",
       "</div>"
      ],
      "text/plain": [
       "   Number of Unique Items Average Price  Number of Purchases Total Revenue\n",
       "0                     179         $3.05                  780     $2,379.77"
      ]
     },
     "execution_count": 18,
     "metadata": {},
     "output_type": "execute_result"
    }
   ],
   "source": [
    "#Purchasing Analysis (Total)\n",
    "\n",
    "#Run basic calculations to obtain number of unique items, average price, etc.\n",
    "unique_items = len(purchase_data_df[\"Item Name\"].value_counts())\n",
    "average_price = purchase_data_df[\"Price\"].mean()\n",
    "total_purchase = len(purchase_data_df[\"Purchase ID\"].value_counts())\n",
    "revenue = purchase_data_df[\"Price\"].sum()\n",
    "\n",
    "#Create a summary data frame to hold the results\n",
    "summary_df = pd.DataFrame({\"Number of Unique Items\": [unique_items], \"Average Price\":[average_price], \n",
    "                           \"Number of Purchases\":[total_purchase], \"Total Revenue\":[revenue]})\n",
    "\n",
    "#Optional: give the displayed data cleaner formatting\n",
    "summary_df[\"Average Price\"] = summary_df[\"Average Price\"].map(\"${:.2f}\".format)\n",
    "summary_df[\"Total Revenue\"] = summary_df[\"Total Revenue\"].map(\"${:,.2f}\".format)\n",
    "summary_df.head()\n",
    "#Display the summary data frame"
   ]
  },
  {
   "cell_type": "code",
   "execution_count": 25,
   "metadata": {},
   "outputs": [
    {
     "data": {
      "text/html": [
       "<div>\n",
       "<style scoped>\n",
       "    .dataframe tbody tr th:only-of-type {\n",
       "        vertical-align: middle;\n",
       "    }\n",
       "\n",
       "    .dataframe tbody tr th {\n",
       "        vertical-align: top;\n",
       "    }\n",
       "\n",
       "    .dataframe thead th {\n",
       "        text-align: right;\n",
       "    }\n",
       "</style>\n",
       "<table border=\"1\" class=\"dataframe\">\n",
       "  <thead>\n",
       "    <tr style=\"text-align: right;\">\n",
       "      <th></th>\n",
       "      <th>Gender Count</th>\n",
       "      <th>Percent of Players</th>\n",
       "    </tr>\n",
       "    <tr>\n",
       "      <th>Gender</th>\n",
       "      <th></th>\n",
       "      <th></th>\n",
       "    </tr>\n",
       "  </thead>\n",
       "  <tbody>\n",
       "    <tr>\n",
       "      <th>Male</th>\n",
       "      <td>484</td>\n",
       "      <td>84.03</td>\n",
       "    </tr>\n",
       "    <tr>\n",
       "      <th>Female</th>\n",
       "      <td>81</td>\n",
       "      <td>14.06</td>\n",
       "    </tr>\n",
       "    <tr>\n",
       "      <th>Other</th>\n",
       "      <td>11</td>\n",
       "      <td>1.91</td>\n",
       "    </tr>\n",
       "  </tbody>\n",
       "</table>\n",
       "</div>"
      ],
      "text/plain": [
       "        Gender Count  Percent of Players\n",
       "Gender                                  \n",
       "Male             484               84.03\n",
       "Female            81               14.06\n",
       "Other             11                1.91"
      ]
     },
     "execution_count": 25,
     "metadata": {},
     "output_type": "execute_result"
    }
   ],
   "source": [
    "#Gender Demographics\n",
    "total_count = len(purchase_data[\"SN\"].unique())\n",
    "\n",
    "#Percentage and Count of Male Players\n",
    "Male1= purchase_data.groupby(['Gender']).get_group(('Male'))\n",
    "Male2= len(Male1['SN'].unique())\n",
    "MalePercent= round((Male2/total_count)*100,2)\n",
    "\n",
    "#Percentage and Count of Female Players\n",
    "Female1= purchase_data.groupby(['Gender']).get_group(('Female'))\n",
    "Female2= len(Female1['SN'].unique())\n",
    "FemalePercent= round((Female2/total_count)*100,2)\n",
    "\n",
    "#Percentage and Count of Other / Non-Disclosed\n",
    "Other1= purchase_data.groupby(['Gender']).get_group(('Other / Non-Disclosed'))\n",
    "Other2= len(Other1['SN'].unique())\n",
    "OtherPercent= round((Other2/total_count)*100,2)\n",
    "\n",
    "#Gender DataFrame\n",
    "gender1 = {'Percent of Players':[MalePercent,FemalePercent,OtherPercent],'Gender':[\"Male\",'Female','Other'],'Gender Count':[Male2,Female2,Other2]}\n",
    "gender2 =  pd.DataFrame(gender1)\n",
    "gender2= gender2.set_index('Gender')\n",
    "gender2= gender2[['Gender Count','Percent of Players']]\n",
    "gender2\n"
   ]
  },
  {
   "cell_type": "code",
   "execution_count": null,
   "metadata": {},
   "outputs": [],
   "source": []
  },
  {
   "cell_type": "code",
   "execution_count": null,
   "metadata": {},
   "outputs": [],
   "source": []
  },
  {
   "cell_type": "code",
   "execution_count": null,
   "metadata": {},
   "outputs": [],
   "source": []
  },
  {
   "cell_type": "code",
   "execution_count": null,
   "metadata": {},
   "outputs": [],
   "source": []
  },
  {
   "cell_type": "code",
   "execution_count": null,
   "metadata": {},
   "outputs": [],
   "source": [
    "#Purchasing Analysis (Gender)\n",
    "#Run basic calculations to obtain purchase count, avg. purchase price, avg. purchase total per person etc. by gender\n",
    "#Create a summary data frame to hold the results\n",
    "#Optional: give the displayed data cleaner formatting\n",
    "#Display the summary data frame"
   ]
  },
  {
   "cell_type": "code",
   "execution_count": null,
   "metadata": {},
   "outputs": [],
   "source": [
    "#Age Demographics\n",
    "#Establish bins for ages\n",
    "#Categorize the existing players using the age bins. Hint: use pd.cut()\n",
    "#Calculate the numbers and percentages by age group\n",
    "#Create a summary data frame to hold the results\n",
    "#Optional: round the percentage column to two decimal points\n",
    "#Display Age Demographics Table"
   ]
  },
  {
   "cell_type": "code",
   "execution_count": null,
   "metadata": {},
   "outputs": [],
   "source": [
    "#Purchasing Analysis (Age)\n",
    "#Bin the purchase_data data frame by age\n",
    "#Run basic calculations to obtain purchase count, avg. purchase price, avg. purchase total per person etc. in the table below\n",
    "#Create a summary data frame to hold the results\n",
    "#Optional: give the displayed data cleaner formatting\n",
    "#Display the summary data frame"
   ]
  },
  {
   "cell_type": "code",
   "execution_count": null,
   "metadata": {},
   "outputs": [],
   "source": [
    "#Top Spenders\n",
    "#Run basic calculations to obtain the results in the table below\n",
    "#Create a summary data frame to hold the results\n",
    "#Sort the total purchase value column in descending order\n",
    "#Optional: give the displayed data cleaner formatting\n",
    "#Display a preview of the summary data frame"
   ]
  },
  {
   "cell_type": "code",
   "execution_count": null,
   "metadata": {},
   "outputs": [],
   "source": [
    "#ost Popular Items\n",
    "#Retrieve the Item ID, Item Name, and Item Price columns\n",
    "#Group by Item ID and Item Name. Perform calculations to obtain purchase count, average item price, and total purchase value\n",
    "#Create a summary data frame to hold the results\n",
    "#Sort the purchase count column in descending order\n",
    "#Optional: give the displayed data cleaner formatting\n",
    "#Display a preview of the summary data frame"
   ]
  },
  {
   "cell_type": "code",
   "execution_count": null,
   "metadata": {},
   "outputs": [],
   "source": [
    "#Most Profitable Items\n",
    "#Sort the above table by total purchase value in descending order\n",
    "#Optional: give the displayed data cleaner formatting\n",
    "#Display a preview of the data frame"
   ]
  }
 ],
 "metadata": {
  "kernelspec": {
   "display_name": "Python 3",
   "language": "python",
   "name": "python3"
  },
  "language_info": {
   "codemirror_mode": {
    "name": "ipython",
    "version": 3
   },
   "file_extension": ".py",
   "mimetype": "text/x-python",
   "name": "python",
   "nbconvert_exporter": "python",
   "pygments_lexer": "ipython3",
   "version": "3.8.5"
  }
 },
 "nbformat": 4,
 "nbformat_minor": 4
}
